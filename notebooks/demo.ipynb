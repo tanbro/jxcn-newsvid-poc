{
 "cells": [
  {
   "cell_type": "markdown",
   "metadata": {},
   "source": [
    "# 新闻视频处理演示"
   ]
  },
  {
   "cell_type": "markdown",
   "metadata": {},
   "source": [
    "在这个笔记本中，我们将要针对一则来自江西湖口的本地新闻进行如下的处理：\n",
    "\n",
    "1. 按照 `cut-scene` 来切割出若干镜头\n",
    "\n",
    "1. 对上一步切割出来的镜头进行分类，识别出:\n",
    "\n",
    "  - 演播室（没有字幕）\n",
    "  - 演播室（带有字幕）\n",
    "  - 其它\n",
    "\n",
    "1. 识别带有字幕的演播室镜头中的字幕文本\n",
    "\n",
    "1. 识别演播室镜头中，播音员播报的语音内容，将它转为文本"
   ]
  },
  {
   "cell_type": "markdown",
   "metadata": {
    "toc-hr-collapsed": false
   },
   "source": [
    "## 环境准备"
   ]
  },
  {
   "cell_type": "markdown",
   "metadata": {},
   "source": [
    "### 安装依赖软件"
   ]
  },
  {
   "cell_type": "markdown",
   "metadata": {},
   "source": [
    "我们已经准备好了一个 Conda 环境 `jxcn-newsvideo`，注意选择这个笔记本的 Kernel 为上诉环境！\n",
    "\n",
    "- 如果还没有配置 Conda 环境，执行下面的 cell ，保证依赖包被正确安装到该笔记本是使用 Kernel\n",
    "- 如果已经配置好了 Conda 环境，不必重复执行\n",
    "\n",
    "这个步骤完成后，如果有新安装的软件，应重启 Kernel，然后下次运行笔记本的时候，跳过安装过程"
   ]
  },
  {
   "cell_type": "code",
   "execution_count": 1,
   "metadata": {},
   "outputs": [
    {
     "name": "stdout",
     "output_type": "stream",
     "text": [
      "Collecting package metadata (repodata.json): | ^C\n",
      "/ \n",
      "Note: you may need to restart the kernel to use updated packages.\n"
     ]
    }
   ],
   "source": [
    "%conda env update --file ../environment.yml"
   ]
  },
  {
   "cell_type": "markdown",
   "metadata": {},
   "source": [
    "### 载入环境变量"
   ]
  },
  {
   "cell_type": "markdown",
   "metadata": {},
   "source": [
    "这个笔记本的代码需要某些预定义的环境变量，所以 **必须** 加载:"
   ]
  },
  {
   "cell_type": "code",
   "execution_count": 124,
   "metadata": {},
   "outputs": [
    {
     "name": "stdout",
     "output_type": "stream",
     "text": [
      "The dotenv extension is already loaded. To reload it, use:\n",
      "  %reload_ext dotenv\n"
     ]
    }
   ],
   "source": [
    "%load_ext dotenv\n",
    "\n",
    "%dotenv -o ../.env"
   ]
  },
  {
   "cell_type": "markdown",
   "metadata": {},
   "source": [
    "### 验证 PyTorch 和 Matplotlib\n",
    "\n",
    "我们还需要：\n",
    "\n",
    "1. 验证 PyTorch 的情况\n",
    "\n",
    "1. 设置 matplotlib 中文字体\n",
    "\n",
    "   请根据实际情况设置有效的字体！"
   ]
  },
  {
   "cell_type": "code",
   "execution_count": 2,
   "metadata": {},
   "outputs": [
    {
     "data": {
      "image/png": "[encoded data removed]",
      "text/plain": [
       "<Figure size 432x288 with 1 Axes>"
      ]
     },
     "metadata": {
      "needs_background": "light"
     },
     "output_type": "display_data"
    },
    {
     "data": {
      "text/html": [
       "<div>\n",
       "<style scoped>\n",
       "    .dataframe tbody tr th:only-of-type {\n",
       "        vertical-align: middle;\n",
       "    }\n",
       "\n",
       "    .dataframe tbody tr th {\n",
       "        vertical-align: top;\n",
       "    }\n",
       "\n",
       "    .dataframe thead th {\n",
       "        text-align: right;\n",
       "    }\n",
       "</style>\n",
       "<table border=\"1\" class=\"dataframe\">\n",
       "  <thead>\n",
       "    <tr style=\"text-align: right;\">\n",
       "      <th></th>\n",
       "      <th>Pytorch Device</th>\n",
       "      <th>Pytorch Version</th>\n",
       "    </tr>\n",
       "  </thead>\n",
       "  <tbody>\n",
       "    <tr>\n",
       "      <th>0</th>\n",
       "      <td>cuda</td>\n",
       "      <td>1.0.1</td>\n",
       "    </tr>\n",
       "  </tbody>\n",
       "</table>\n",
       "</div>"
      ],
      "text/plain": [
       "  Pytorch Device Pytorch Version\n",
       "0           cuda           1.0.1"
      ]
     },
     "execution_count": 2,
     "metadata": {},
     "output_type": "execute_result"
    }
   ],
   "source": [
    "%matplotlib inline\n",
    "\n",
    "import pandas as pd\n",
    "import matplotlib.pyplot as plt\n",
    "import matplotlib.font_manager as mfm\n",
    "import torch\n",
    "\n",
    "mfm_font_path = \"/usr/share/fonts/opentype/noto/NotoSansCJK-Regular.ttc\"\n",
    "mfm_font_prop = mfm.FontProperties(fname=mfm_font_path)\n",
    "plt.text(.5, .5, s='中文绘图显示测试', fontproperties=mfm_font_prop)\n",
    "plt.pause(0.01)\n",
    "plt.show()\n",
    "plt.pause(0.01)\n",
    "\n",
    "device = torch.device('cuda') if torch.cuda.is_available() else torch.device('cpu')\n",
    "# Assuming that we are on a CUDA machine, this should print a CUDA device:\n",
    "\n",
    "pd.DataFrame([{\n",
    "    'Pytorch Version': torch.__version__,\n",
    "    'Pytorch Device': device\n",
    "}])"
   ]
  },
  {
   "cell_type": "markdown",
   "metadata": {},
   "source": [
    "### 定义全局函数\n",
    "\n",
    "定义几个用于 A/V 处理的全局函数"
   ]
  },
  {
   "cell_type": "code",
   "execution_count": 17,
   "metadata": {
    "jupyter": {
     "source_hidden": true
    }
   },
   "outputs": [],
   "source": [
    "import os\n",
    "import subprocess\n",
    "from copy import copy, deepcopy\n",
    "from datetime import timedelta\n",
    "from time import sleep\n",
    "\n",
    "import pandas as pd\n",
    "import matplotlib.pyplot as plt\n",
    "import matplotlib.font_manager as mfm\n",
    "import torch\n",
    "\n",
    "from IPython.display import display, Image, Audio, Video\n",
    "\n",
    "\n",
    "def run_ffmpeg(args=None, quiet=True, check=True, cmd=None):\n",
    "    if not cmd:\n",
    "        cmd = 'ffmpeg'\n",
    "    args = args or []\n",
    "    if quiet:\n",
    "        kv_args = dict(stdout=subprocess.PIPE, stderr=subprocess.PIPE)\n",
    "    else:\n",
    "        kv_args = dict()\n",
    "    subprocess.run([cmd, '-y'] + args, check=check, **kv_args)\n",
    "\n",
    "def trunc_av(video_file_path, start_seconds, end_seconds, output_path):\n",
    "    start_time = timedelta(seconds=start_seconds)\n",
    "    duration = timedelta(seconds=(end_seconds - start_seconds))\n",
    "    args = [\n",
    "        '-ss', str(start_time),\n",
    "        '-i', str(video_file_path),\n",
    "        '-t', str(duration),\n",
    "        '-c', 'copy',\n",
    "        # output:\n",
    "        str(output_path)\n",
    "    ]\n",
    "    run_ffmpeg(args=args, quiet=False)\n",
    "\n",
    "def trunc_a(video_file_path, start_seconds, end_seconds, output_path):\n",
    "    output_file, _ = os.path.splitext(output_path)\n",
    "    output_path = output_file + '.mp3'\n",
    "    start_time = timedelta(seconds=start_seconds)\n",
    "    duration = timedelta(seconds=(end_seconds - start_seconds))\n",
    "    args = [\n",
    "        '-ss', str(start_time),\n",
    "        '-i', str(video_file_path),\n",
    "        '-t', str(duration),\n",
    "        '-vn', '-acodec', 'libmp3lame', '-b:a', '16k',\n",
    "        # output:\n",
    "        str(output_path)\n",
    "    ]\n",
    "    run_ffmpeg(args=args)\n"
   ]
  },
  {
   "cell_type": "markdown",
   "metadata": {},
   "source": [
    "## 上传要处理的视频文件"
   ]
  },
  {
   "cell_type": "markdown",
   "metadata": {},
   "source": [
    "上传一个湖口的新闻视频，并指定其路径。\n",
    "\n",
    "本例中，我们上传文件 *湖口* *2019年05月16日* 的新闻录像到:\n",
    "\n",
    "```sh\n",
    "../videos/湖口/20190516.mp4\n",
    "```\n",
    "\n",
    "> **提示：**\n",
    ">\n",
    "> 笔记本 Web 界面左侧的文件浏览器支持拖拽\n",
    "\n",
    "将文件路径复制到全局变量。后面的步骤需要使用该变量进行计算："
   ]
  },
  {
   "cell_type": "code",
   "execution_count": 4,
   "metadata": {},
   "outputs": [
    {
     "name": "stdout",
     "output_type": "stream",
     "text": [
      "要处理的文件： /home/liuxy/workspace/jxcn-newvideo-poc/videos/湖口/20190516.mp4\n"
     ]
    }
   ],
   "source": [
    "import os\n",
    "\n",
    "VIDEO_DIR = '../videos'\n",
    "\n",
    "# 定义要处理的视频文件路径之全局变量\n",
    "VIDEO_FILE = os.path.join(\n",
    "    VIDEO_DIR,\n",
    "    \"../videos/湖口/20190516.mp4\"  # 在这里填写新实际要进行处理的视频文件！\n",
    ")\n",
    "\n",
    "print('要处理的文件：', os.path.abspath(VIDEO_FILE))  # 输出文件绝对路径\n",
    "assert os.path.exists(VIDEO_FILE)  # 断言：文件存在"
   ]
  },
  {
   "cell_type": "markdown",
   "metadata": {},
   "source": [
    "在下面的步骤中，我们将针对这个视频文件进行处理。"
   ]
  },
  {
   "cell_type": "markdown",
   "metadata": {},
   "source": [
    "## 场景边界预测"
   ]
  },
  {
   "cell_type": "markdown",
   "metadata": {},
   "source": [
    "这一小节中，我们需要根据视觉表征进行场景边界预测\n",
    "\n",
    "在此之前，我们已经预先准备了一个使用根据图像表征进行视频场景边界检测的预训练模型。\n",
    "这个模型可以预测出视频场景边界。\n",
    "\n",
    "我们使用这个模型，对上传的新闻视频文件进行预测，得到它的场景边界。"
   ]
  },
  {
   "cell_type": "code",
   "execution_count": 5,
   "metadata": {
    "jupyter": {
     "source_hidden": true
    }
   },
   "outputs": [
    {
     "name": "stdout",
     "output_type": "stream",
     "text": [
      "进行场景边界预测...\n"
     ]
    },
    {
     "name": "stderr",
     "output_type": "stream",
     "text": [
      "100%|██████████| 18477/18477 [03:54<00:00, 78.67frames/s]\n"
     ]
    },
    {
     "name": "stdout",
     "output_type": "stream",
     "text": [
      "生成场景缩略图...\n",
      "tmp-dir: ../tmp/images/湖口/20190516\n"
     ]
    },
    {
     "data": {
      "application/vnd.jupyter.widget-view+json": {
       "model_id": "197040ea023f4b628ac17b7a59bfd372",
       "version_major": 2,
       "version_minor": 0
      },
      "text/plain": [
       "HBox(children=(IntProgress(value=0, max=140), HTML(value='')))"
      ]
     },
     "metadata": {},
     "output_type": "display_data"
    },
    {
     "name": "stdout",
     "output_type": "stream",
     "text": [
      "\n",
      "CPU times: user 837 ms, sys: 2.15 s, total: 2.98 s\n",
      "Wall time: 15 s\n"
     ]
    }
   ],
   "source": [
    "print('进行场景边界预测...')\n",
    "sleep(1)\n",
    "\n",
    "\n",
    "from contextlib import contextmanager\n",
    "\n",
    "from scenedetect.video_manager import VideoManager\n",
    "from scenedetect.detectors import ContentDetector\n",
    "from scenedetect.scene_manager import SceneManager\n",
    "from scenedetect.stats_manager import StatsManager\n",
    "\n",
    "@contextmanager\n",
    "def managed_video_manager(*args, **kwargs):\n",
    "    video_manager = VideoManager(*args, **kwargs)\n",
    "    try:\n",
    "        yield video_manager\n",
    "    finally:\n",
    "        video_manager.release()\n",
    "\n",
    "def cut_scenes(video_file_path):\n",
    "    # cut-scenes 检测\n",
    "    stats_manager = StatsManager()\n",
    "    scene_manager = SceneManager(stats_manager)\n",
    "    scene_manager.add_detector(ContentDetector())\n",
    "    \n",
    "    with managed_video_manager([str(video_file_path)]) as video_manager:\n",
    "        # detect scenes\n",
    "        video_manager.start()\n",
    "        base_time_code = video_manager.get_base_timecode()\n",
    "        num_frames = scene_manager.detect_scenes(frame_source=video_manager)\n",
    "        if not num_frames > 0:\n",
    "            raise RuntimeError('No scenes detected')\n",
    "        scene_list = scene_manager.get_scene_list(base_time_code)\n",
    "    # Ok.\n",
    "    # 拼凑结果数据\n",
    "    scenes = []\n",
    "    for index, (start_time_code, end_time_code) in enumerate(scene_list):\n",
    "        scenes.append({\n",
    "            'index': index,\n",
    "            'start_time': start_time_code.get_seconds(),\n",
    "            'end_time': end_time_code.get_seconds(),\n",
    "            'start_frame': start_time_code.get_frames(),\n",
    "            'end_frame': end_time_code.get_frames(),\n",
    "        })\n",
    "    return scenes\n",
    "\n",
    "scenes = cut_scenes(VIDEO_FILE)\n",
    "\n",
    "\n",
    "\n",
    "##########################################\n",
    "\n",
    "print('生成场景缩略图...')\n",
    "sleep(1)\n",
    "\n",
    "\n",
    "# 生成缩略图：\n",
    "\n",
    "from shutil import rmtree\n",
    "from datetime import timedelta\n",
    "from string import Template\n",
    "\n",
    "from tqdm import tqdm_notebook as tqdm\n",
    "    \n",
    "def take_images_in_timespan(\n",
    "        video_file_path,\n",
    "        start_time,\n",
    "        end_time,\n",
    "        output_file_name_format='$index.jpg',\n",
    "        num=3\n",
    "):\n",
    "    output_tpl = Template(output_file_name_format)\n",
    "    time_points = []\n",
    "    img_file_list = []\n",
    "    if num == 1:\n",
    "        time_points.append(\n",
    "            start_time + (end_time - start_time) / 2\n",
    "        )\n",
    "    else:\n",
    "        span = (end_time - start_time) / (num - 1)\n",
    "        time_points.append(start_time)\n",
    "        for i in range(num - 2):\n",
    "            time_points.append(\n",
    "                start_time + span * (i + 1)\n",
    "            )\n",
    "        time_points.append(end_time)\n",
    "    #\n",
    "    for i, ss in enumerate(time_points):\n",
    "        ss = timedelta(seconds=ss)\n",
    "        output_path = output_tpl.substitute(index=i + 1)\n",
    "        os.makedirs(os.path.dirname(output_path), exist_ok=True)\n",
    "        run_ffmpeg([\n",
    "            '-ss', str(ss), '-i', video_file_path, '-vframes', '1', output_path\n",
    "        ])\n",
    "        img_file_list.append(output_path)\n",
    "    return img_file_list\n",
    "\n",
    "\n",
    "def take_scenes_images(video_file_path, scenes, output_dir):\n",
    "    # 输出目录\n",
    "    os.makedirs(output_dir, exist_ok=True)\n",
    "    # 生成缩略图文件\n",
    "    for i, scene in tqdm(enumerate(scenes), total=len(scenes)):\n",
    "        start_time = scene['start_time']\n",
    "        end_time = scene['end_time']\n",
    "        snapshots = take_images_in_timespan(\n",
    "            video_file_path, start_time, end_time,\n",
    "            os.path.join(output_dir, '{}_$index.jpg'.format(i + 1)),\n",
    "            1\n",
    "        )\n",
    "        scene['snapshots'] = snapshots\n",
    "\n",
    "\n",
    "dirname, basename = os.path.split(VIDEO_FILE)\n",
    "basename = os.path.splitext(basename)[0]\n",
    "images_dir = os.path.join(\n",
    "    '..',\n",
    "    'tmp',\n",
    "    'images',\n",
    "    os.path.relpath(dirname, VIDEO_DIR),\n",
    "    basename\n",
    ")\n",
    "rmtree(images_dir, ignore_errors=True)\n",
    "\n",
    "print(f'tmp-dir: {images_dir}')\n",
    "sleep(1)\n",
    "\n",
    "%time take_scenes_images(VIDEO_FILE, scenes, images_dir)\n"
   ]
  },
  {
   "cell_type": "markdown",
   "metadata": {},
   "source": [
    "待上一步骤执行完毕后，我们打印检测到的场景列表（包含：顺序编号、起止时间、起止帧）："
   ]
  },
  {
   "cell_type": "code",
   "execution_count": 6,
   "metadata": {
    "collapsed": true,
    "jupyter": {
     "outputs_hidden": true
    }
   },
   "outputs": [
    {
     "data": {
      "text/html": [
       "<div>\n",
       "<style scoped>\n",
       "    .dataframe tbody tr th:only-of-type {\n",
       "        vertical-align: middle;\n",
       "    }\n",
       "\n",
       "    .dataframe tbody tr th {\n",
       "        vertical-align: top;\n",
       "    }\n",
       "\n",
       "    .dataframe thead th {\n",
       "        text-align: right;\n",
       "    }\n",
       "</style>\n",
       "<table border=\"1\" class=\"dataframe\">\n",
       "  <thead>\n",
       "    <tr style=\"text-align: right;\">\n",
       "      <th></th>\n",
       "      <th>end_frame</th>\n",
       "      <th>end_time</th>\n",
       "      <th>index</th>\n",
       "      <th>start_frame</th>\n",
       "      <th>start_time</th>\n",
       "    </tr>\n",
       "  </thead>\n",
       "  <tbody>\n",
       "    <tr>\n",
       "      <th>0</th>\n",
       "      <td>125</td>\n",
       "      <td>5.00</td>\n",
       "      <td>0</td>\n",
       "      <td>0</td>\n",
       "      <td>0.00</td>\n",
       "    </tr>\n",
       "    <tr>\n",
       "      <th>1</th>\n",
       "      <td>231</td>\n",
       "      <td>9.24</td>\n",
       "      <td>1</td>\n",
       "      <td>125</td>\n",
       "      <td>5.00</td>\n",
       "    </tr>\n",
       "    <tr>\n",
       "      <th>2</th>\n",
       "      <td>411</td>\n",
       "      <td>16.44</td>\n",
       "      <td>2</td>\n",
       "      <td>231</td>\n",
       "      <td>9.24</td>\n",
       "    </tr>\n",
       "    <tr>\n",
       "      <th>3</th>\n",
       "      <td>437</td>\n",
       "      <td>17.48</td>\n",
       "      <td>3</td>\n",
       "      <td>411</td>\n",
       "      <td>16.44</td>\n",
       "    </tr>\n",
       "    <tr>\n",
       "      <th>4</th>\n",
       "      <td>474</td>\n",
       "      <td>18.96</td>\n",
       "      <td>4</td>\n",
       "      <td>437</td>\n",
       "      <td>17.48</td>\n",
       "    </tr>\n",
       "    <tr>\n",
       "      <th>5</th>\n",
       "      <td>923</td>\n",
       "      <td>36.92</td>\n",
       "      <td>5</td>\n",
       "      <td>474</td>\n",
       "      <td>18.96</td>\n",
       "    </tr>\n",
       "    <tr>\n",
       "      <th>6</th>\n",
       "      <td>951</td>\n",
       "      <td>38.04</td>\n",
       "      <td>6</td>\n",
       "      <td>923</td>\n",
       "      <td>36.92</td>\n",
       "    </tr>\n",
       "    <tr>\n",
       "      <th>7</th>\n",
       "      <td>982</td>\n",
       "      <td>39.28</td>\n",
       "      <td>7</td>\n",
       "      <td>951</td>\n",
       "      <td>38.04</td>\n",
       "    </tr>\n",
       "    <tr>\n",
       "      <th>8</th>\n",
       "      <td>1004</td>\n",
       "      <td>40.16</td>\n",
       "      <td>8</td>\n",
       "      <td>982</td>\n",
       "      <td>39.28</td>\n",
       "    </tr>\n",
       "    <tr>\n",
       "      <th>9</th>\n",
       "      <td>1024</td>\n",
       "      <td>40.96</td>\n",
       "      <td>9</td>\n",
       "      <td>1004</td>\n",
       "      <td>40.16</td>\n",
       "    </tr>\n",
       "    <tr>\n",
       "      <th>10</th>\n",
       "      <td>1047</td>\n",
       "      <td>41.88</td>\n",
       "      <td>10</td>\n",
       "      <td>1024</td>\n",
       "      <td>40.96</td>\n",
       "    </tr>\n",
       "    <tr>\n",
       "      <th>11</th>\n",
       "      <td>1068</td>\n",
       "      <td>42.72</td>\n",
       "      <td>11</td>\n",
       "      <td>1047</td>\n",
       "      <td>41.88</td>\n",
       "    </tr>\n",
       "    <tr>\n",
       "      <th>12</th>\n",
       "      <td>1101</td>\n",
       "      <td>44.04</td>\n",
       "      <td>12</td>\n",
       "      <td>1068</td>\n",
       "      <td>42.72</td>\n",
       "    </tr>\n",
       "    <tr>\n",
       "      <th>13</th>\n",
       "      <td>1139</td>\n",
       "      <td>45.56</td>\n",
       "      <td>13</td>\n",
       "      <td>1101</td>\n",
       "      <td>44.04</td>\n",
       "    </tr>\n",
       "    <tr>\n",
       "      <th>14</th>\n",
       "      <td>1173</td>\n",
       "      <td>46.92</td>\n",
       "      <td>14</td>\n",
       "      <td>1139</td>\n",
       "      <td>45.56</td>\n",
       "    </tr>\n",
       "    <tr>\n",
       "      <th>15</th>\n",
       "      <td>1207</td>\n",
       "      <td>48.28</td>\n",
       "      <td>15</td>\n",
       "      <td>1173</td>\n",
       "      <td>46.92</td>\n",
       "    </tr>\n",
       "    <tr>\n",
       "      <th>16</th>\n",
       "      <td>1250</td>\n",
       "      <td>50.00</td>\n",
       "      <td>16</td>\n",
       "      <td>1207</td>\n",
       "      <td>48.28</td>\n",
       "    </tr>\n",
       "    <tr>\n",
       "      <th>17</th>\n",
       "      <td>1376</td>\n",
       "      <td>55.04</td>\n",
       "      <td>17</td>\n",
       "      <td>1250</td>\n",
       "      <td>50.00</td>\n",
       "    </tr>\n",
       "    <tr>\n",
       "      <th>18</th>\n",
       "      <td>2521</td>\n",
       "      <td>100.84</td>\n",
       "      <td>18</td>\n",
       "      <td>1376</td>\n",
       "      <td>55.04</td>\n",
       "    </tr>\n",
       "    <tr>\n",
       "      <th>19</th>\n",
       "      <td>2615</td>\n",
       "      <td>104.60</td>\n",
       "      <td>19</td>\n",
       "      <td>2521</td>\n",
       "      <td>100.84</td>\n",
       "    </tr>\n",
       "    <tr>\n",
       "      <th>20</th>\n",
       "      <td>3149</td>\n",
       "      <td>125.96</td>\n",
       "      <td>20</td>\n",
       "      <td>2615</td>\n",
       "      <td>104.60</td>\n",
       "    </tr>\n",
       "    <tr>\n",
       "      <th>21</th>\n",
       "      <td>3262</td>\n",
       "      <td>130.48</td>\n",
       "      <td>21</td>\n",
       "      <td>3149</td>\n",
       "      <td>125.96</td>\n",
       "    </tr>\n",
       "    <tr>\n",
       "      <th>22</th>\n",
       "      <td>3375</td>\n",
       "      <td>135.00</td>\n",
       "      <td>22</td>\n",
       "      <td>3262</td>\n",
       "      <td>130.48</td>\n",
       "    </tr>\n",
       "    <tr>\n",
       "      <th>23</th>\n",
       "      <td>3488</td>\n",
       "      <td>139.52</td>\n",
       "      <td>23</td>\n",
       "      <td>3375</td>\n",
       "      <td>135.00</td>\n",
       "    </tr>\n",
       "    <tr>\n",
       "      <th>24</th>\n",
       "      <td>3601</td>\n",
       "      <td>144.04</td>\n",
       "      <td>24</td>\n",
       "      <td>3488</td>\n",
       "      <td>139.52</td>\n",
       "    </tr>\n",
       "    <tr>\n",
       "      <th>25</th>\n",
       "      <td>3714</td>\n",
       "      <td>148.56</td>\n",
       "      <td>25</td>\n",
       "      <td>3601</td>\n",
       "      <td>144.04</td>\n",
       "    </tr>\n",
       "    <tr>\n",
       "      <th>26</th>\n",
       "      <td>3814</td>\n",
       "      <td>152.56</td>\n",
       "      <td>26</td>\n",
       "      <td>3714</td>\n",
       "      <td>148.56</td>\n",
       "    </tr>\n",
       "    <tr>\n",
       "      <th>27</th>\n",
       "      <td>3914</td>\n",
       "      <td>156.56</td>\n",
       "      <td>27</td>\n",
       "      <td>3814</td>\n",
       "      <td>152.56</td>\n",
       "    </tr>\n",
       "    <tr>\n",
       "      <th>28</th>\n",
       "      <td>4014</td>\n",
       "      <td>160.56</td>\n",
       "      <td>28</td>\n",
       "      <td>3914</td>\n",
       "      <td>156.56</td>\n",
       "    </tr>\n",
       "    <tr>\n",
       "      <th>29</th>\n",
       "      <td>4107</td>\n",
       "      <td>164.28</td>\n",
       "      <td>29</td>\n",
       "      <td>4014</td>\n",
       "      <td>160.56</td>\n",
       "    </tr>\n",
       "    <tr>\n",
       "      <th>...</th>\n",
       "      <td>...</td>\n",
       "      <td>...</td>\n",
       "      <td>...</td>\n",
       "      <td>...</td>\n",
       "      <td>...</td>\n",
       "    </tr>\n",
       "    <tr>\n",
       "      <th>110</th>\n",
       "      <td>15114</td>\n",
       "      <td>604.56</td>\n",
       "      <td>110</td>\n",
       "      <td>14998</td>\n",
       "      <td>599.92</td>\n",
       "    </tr>\n",
       "    <tr>\n",
       "      <th>111</th>\n",
       "      <td>15277</td>\n",
       "      <td>611.08</td>\n",
       "      <td>111</td>\n",
       "      <td>15114</td>\n",
       "      <td>604.56</td>\n",
       "    </tr>\n",
       "    <tr>\n",
       "      <th>112</th>\n",
       "      <td>15363</td>\n",
       "      <td>614.52</td>\n",
       "      <td>112</td>\n",
       "      <td>15277</td>\n",
       "      <td>611.08</td>\n",
       "    </tr>\n",
       "    <tr>\n",
       "      <th>113</th>\n",
       "      <td>15428</td>\n",
       "      <td>617.12</td>\n",
       "      <td>113</td>\n",
       "      <td>15363</td>\n",
       "      <td>614.52</td>\n",
       "    </tr>\n",
       "    <tr>\n",
       "      <th>114</th>\n",
       "      <td>15536</td>\n",
       "      <td>621.44</td>\n",
       "      <td>114</td>\n",
       "      <td>15428</td>\n",
       "      <td>617.12</td>\n",
       "    </tr>\n",
       "    <tr>\n",
       "      <th>115</th>\n",
       "      <td>15595</td>\n",
       "      <td>623.80</td>\n",
       "      <td>115</td>\n",
       "      <td>15536</td>\n",
       "      <td>621.44</td>\n",
       "    </tr>\n",
       "    <tr>\n",
       "      <th>116</th>\n",
       "      <td>15694</td>\n",
       "      <td>627.76</td>\n",
       "      <td>116</td>\n",
       "      <td>15595</td>\n",
       "      <td>623.80</td>\n",
       "    </tr>\n",
       "    <tr>\n",
       "      <th>117</th>\n",
       "      <td>15784</td>\n",
       "      <td>631.36</td>\n",
       "      <td>117</td>\n",
       "      <td>15694</td>\n",
       "      <td>627.76</td>\n",
       "    </tr>\n",
       "    <tr>\n",
       "      <th>118</th>\n",
       "      <td>15867</td>\n",
       "      <td>634.68</td>\n",
       "      <td>118</td>\n",
       "      <td>15784</td>\n",
       "      <td>631.36</td>\n",
       "    </tr>\n",
       "    <tr>\n",
       "      <th>119</th>\n",
       "      <td>15930</td>\n",
       "      <td>637.20</td>\n",
       "      <td>119</td>\n",
       "      <td>15867</td>\n",
       "      <td>634.68</td>\n",
       "    </tr>\n",
       "    <tr>\n",
       "      <th>120</th>\n",
       "      <td>15995</td>\n",
       "      <td>639.80</td>\n",
       "      <td>120</td>\n",
       "      <td>15930</td>\n",
       "      <td>637.20</td>\n",
       "    </tr>\n",
       "    <tr>\n",
       "      <th>121</th>\n",
       "      <td>16083</td>\n",
       "      <td>643.32</td>\n",
       "      <td>121</td>\n",
       "      <td>15995</td>\n",
       "      <td>639.80</td>\n",
       "    </tr>\n",
       "    <tr>\n",
       "      <th>122</th>\n",
       "      <td>16188</td>\n",
       "      <td>647.52</td>\n",
       "      <td>122</td>\n",
       "      <td>16083</td>\n",
       "      <td>643.32</td>\n",
       "    </tr>\n",
       "    <tr>\n",
       "      <th>123</th>\n",
       "      <td>16268</td>\n",
       "      <td>650.72</td>\n",
       "      <td>123</td>\n",
       "      <td>16188</td>\n",
       "      <td>647.52</td>\n",
       "    </tr>\n",
       "    <tr>\n",
       "      <th>124</th>\n",
       "      <td>16337</td>\n",
       "      <td>653.48</td>\n",
       "      <td>124</td>\n",
       "      <td>16268</td>\n",
       "      <td>650.72</td>\n",
       "    </tr>\n",
       "    <tr>\n",
       "      <th>125</th>\n",
       "      <td>16402</td>\n",
       "      <td>656.08</td>\n",
       "      <td>125</td>\n",
       "      <td>16337</td>\n",
       "      <td>653.48</td>\n",
       "    </tr>\n",
       "    <tr>\n",
       "      <th>126</th>\n",
       "      <td>16476</td>\n",
       "      <td>659.04</td>\n",
       "      <td>126</td>\n",
       "      <td>16402</td>\n",
       "      <td>656.08</td>\n",
       "    </tr>\n",
       "    <tr>\n",
       "      <th>127</th>\n",
       "      <td>16562</td>\n",
       "      <td>662.48</td>\n",
       "      <td>127</td>\n",
       "      <td>16476</td>\n",
       "      <td>659.04</td>\n",
       "    </tr>\n",
       "    <tr>\n",
       "      <th>128</th>\n",
       "      <td>16927</td>\n",
       "      <td>677.08</td>\n",
       "      <td>128</td>\n",
       "      <td>16562</td>\n",
       "      <td>662.48</td>\n",
       "    </tr>\n",
       "    <tr>\n",
       "      <th>129</th>\n",
       "      <td>17030</td>\n",
       "      <td>681.20</td>\n",
       "      <td>129</td>\n",
       "      <td>16927</td>\n",
       "      <td>677.08</td>\n",
       "    </tr>\n",
       "    <tr>\n",
       "      <th>130</th>\n",
       "      <td>17117</td>\n",
       "      <td>684.68</td>\n",
       "      <td>130</td>\n",
       "      <td>17030</td>\n",
       "      <td>681.20</td>\n",
       "    </tr>\n",
       "    <tr>\n",
       "      <th>131</th>\n",
       "      <td>17290</td>\n",
       "      <td>691.60</td>\n",
       "      <td>131</td>\n",
       "      <td>17117</td>\n",
       "      <td>684.68</td>\n",
       "    </tr>\n",
       "    <tr>\n",
       "      <th>132</th>\n",
       "      <td>17376</td>\n",
       "      <td>695.04</td>\n",
       "      <td>132</td>\n",
       "      <td>17290</td>\n",
       "      <td>691.60</td>\n",
       "    </tr>\n",
       "    <tr>\n",
       "      <th>133</th>\n",
       "      <td>17449</td>\n",
       "      <td>697.96</td>\n",
       "      <td>133</td>\n",
       "      <td>17376</td>\n",
       "      <td>695.04</td>\n",
       "    </tr>\n",
       "    <tr>\n",
       "      <th>134</th>\n",
       "      <td>17523</td>\n",
       "      <td>700.92</td>\n",
       "      <td>134</td>\n",
       "      <td>17449</td>\n",
       "      <td>697.96</td>\n",
       "    </tr>\n",
       "    <tr>\n",
       "      <th>135</th>\n",
       "      <td>17593</td>\n",
       "      <td>703.72</td>\n",
       "      <td>135</td>\n",
       "      <td>17523</td>\n",
       "      <td>700.92</td>\n",
       "    </tr>\n",
       "    <tr>\n",
       "      <th>136</th>\n",
       "      <td>17693</td>\n",
       "      <td>707.72</td>\n",
       "      <td>136</td>\n",
       "      <td>17593</td>\n",
       "      <td>703.72</td>\n",
       "    </tr>\n",
       "    <tr>\n",
       "      <th>137</th>\n",
       "      <td>17795</td>\n",
       "      <td>711.80</td>\n",
       "      <td>137</td>\n",
       "      <td>17693</td>\n",
       "      <td>707.72</td>\n",
       "    </tr>\n",
       "    <tr>\n",
       "      <th>138</th>\n",
       "      <td>17879</td>\n",
       "      <td>715.16</td>\n",
       "      <td>138</td>\n",
       "      <td>17795</td>\n",
       "      <td>711.80</td>\n",
       "    </tr>\n",
       "    <tr>\n",
       "      <th>139</th>\n",
       "      <td>18477</td>\n",
       "      <td>739.08</td>\n",
       "      <td>139</td>\n",
       "      <td>17879</td>\n",
       "      <td>715.16</td>\n",
       "    </tr>\n",
       "  </tbody>\n",
       "</table>\n",
       "<p>140 rows × 5 columns</p>\n",
       "</div>"
      ],
      "text/plain": [
       "     end_frame  end_time  index  start_frame  start_time\n",
       "0          125      5.00      0            0        0.00\n",
       "1          231      9.24      1          125        5.00\n",
       "2          411     16.44      2          231        9.24\n",
       "3          437     17.48      3          411       16.44\n",
       "4          474     18.96      4          437       17.48\n",
       "5          923     36.92      5          474       18.96\n",
       "6          951     38.04      6          923       36.92\n",
       "7          982     39.28      7          951       38.04\n",
       "8         1004     40.16      8          982       39.28\n",
       "9         1024     40.96      9         1004       40.16\n",
       "10        1047     41.88     10         1024       40.96\n",
       "11        1068     42.72     11         1047       41.88\n",
       "12        1101     44.04     12         1068       42.72\n",
       "13        1139     45.56     13         1101       44.04\n",
       "14        1173     46.92     14         1139       45.56\n",
       "15        1207     48.28     15         1173       46.92\n",
       "16        1250     50.00     16         1207       48.28\n",
       "17        1376     55.04     17         1250       50.00\n",
       "18        2521    100.84     18         1376       55.04\n",
       "19        2615    104.60     19         2521      100.84\n",
       "20        3149    125.96     20         2615      104.60\n",
       "21        3262    130.48     21         3149      125.96\n",
       "22        3375    135.00     22         3262      130.48\n",
       "23        3488    139.52     23         3375      135.00\n",
       "24        3601    144.04     24         3488      139.52\n",
       "25        3714    148.56     25         3601      144.04\n",
       "26        3814    152.56     26         3714      148.56\n",
       "27        3914    156.56     27         3814      152.56\n",
       "28        4014    160.56     28         3914      156.56\n",
       "29        4107    164.28     29         4014      160.56\n",
       "..         ...       ...    ...          ...         ...\n",
       "110      15114    604.56    110        14998      599.92\n",
       "111      15277    611.08    111        15114      604.56\n",
       "112      15363    614.52    112        15277      611.08\n",
       "113      15428    617.12    113        15363      614.52\n",
       "114      15536    621.44    114        15428      617.12\n",
       "115      15595    623.80    115        15536      621.44\n",
       "116      15694    627.76    116        15595      623.80\n",
       "117      15784    631.36    117        15694      627.76\n",
       "118      15867    634.68    118        15784      631.36\n",
       "119      15930    637.20    119        15867      634.68\n",
       "120      15995    639.80    120        15930      637.20\n",
       "121      16083    643.32    121        15995      639.80\n",
       "122      16188    647.52    122        16083      643.32\n",
       "123      16268    650.72    123        16188      647.52\n",
       "124      16337    653.48    124        16268      650.72\n",
       "125      16402    656.08    125        16337      653.48\n",
       "126      16476    659.04    126        16402      656.08\n",
       "127      16562    662.48    127        16476      659.04\n",
       "128      16927    677.08    128        16562      662.48\n",
       "129      17030    681.20    129        16927      677.08\n",
       "130      17117    684.68    130        17030      681.20\n",
       "131      17290    691.60    131        17117      684.68\n",
       "132      17376    695.04    132        17290      691.60\n",
       "133      17449    697.96    133        17376      695.04\n",
       "134      17523    700.92    134        17449      697.96\n",
       "135      17593    703.72    135        17523      700.92\n",
       "136      17693    707.72    136        17593      703.72\n",
       "137      17795    711.80    137        17693      707.72\n",
       "138      17879    715.16    138        17795      711.80\n",
       "139      18477    739.08    139        17879      715.16\n",
       "\n",
       "[140 rows x 5 columns]"
      ]
     },
     "execution_count": 6,
     "metadata": {},
     "output_type": "execute_result"
    }
   ],
   "source": [
    "pd.DataFrame(scenes)"
   ]
  },
  {
   "cell_type": "markdown",
   "metadata": {},
   "source": [
    "## 场景分类"
   ]
  },
  {
   "cell_type": "markdown",
   "metadata": {},
   "source": [
    "我们已经制作了一个小的，可进行对场景进行图像分类的预训练模型，它可以将场景分为：\n",
    "\n",
    "* `0`: 无字幕内容\n",
    "* `1`: 有字幕内容\n",
    "* `2`: 演播室\n",
    "\n",
    "之所以只进行如此简单的3个分类，是因为我们只需要在这个笔记本中进行几个单一功能的概念验证，选取少量数据进行标注和训练，可以节约时间。\n",
    "\n",
    "下面，我们进行分类，并根据分类结果重新组合场景："
   ]
  },
  {
   "cell_type": "code",
   "execution_count": 147,
   "metadata": {
    "jupyter": {
     "source_hidden": true
    }
   },
   "outputs": [
    {
     "name": "stdout",
     "output_type": "stream",
     "text": [
      "classifying ....\n",
      "预测: 场景分类 ...\n",
      "CPU times: user 29.4 s, sys: 1.6 s, total: 31 s\n",
      "Wall time: 4.45 s\n",
      "预测完毕!\n",
      "重组合场景\n",
      "切割故事 A/V 片段 ... \n",
      "tmp-dir:  ../tmp/story-clips/湖口/20190516\n"
     ]
    },
    {
     "data": {
      "application/vnd.jupyter.widget-view+json": {
       "model_id": "cc8b493e99fa4711ad26a47d0e7294dc",
       "version_major": 2,
       "version_minor": 0
      },
      "text/plain": [
       "HBox(children=(IntProgress(value=0, max=10), HTML(value='')))"
      ]
     },
     "metadata": {},
     "output_type": "display_data"
    },
    {
     "name": "stdout",
     "output_type": "stream",
     "text": [
      "\n",
      "切割后的视频列表：\n"
     ]
    },
    {
     "data": {
      "text/html": [
       "<div>\n",
       "<style scoped>\n",
       "    .dataframe tbody tr th:only-of-type {\n",
       "        vertical-align: middle;\n",
       "    }\n",
       "\n",
       "    .dataframe tbody tr th {\n",
       "        vertical-align: top;\n",
       "    }\n",
       "\n",
       "    .dataframe thead th {\n",
       "        text-align: right;\n",
       "    }\n",
       "</style>\n",
       "<table border=\"1\" class=\"dataframe\">\n",
       "  <thead>\n",
       "    <tr style=\"text-align: right;\">\n",
       "      <th></th>\n",
       "      <th>audio_file</th>\n",
       "      <th>class</th>\n",
       "      <th>class_name</th>\n",
       "      <th>end_frame</th>\n",
       "      <th>end_time</th>\n",
       "      <th>has_subtitle</th>\n",
       "      <th>in_studio</th>\n",
       "      <th>index</th>\n",
       "      <th>snapshots</th>\n",
       "      <th>start_frame</th>\n",
       "      <th>start_time</th>\n",
       "      <th>video_file</th>\n",
       "    </tr>\n",
       "  </thead>\n",
       "  <tbody>\n",
       "    <tr>\n",
       "      <th>0</th>\n",
       "      <td>../tmp/story-clips/湖口/20190516/0.mp3</td>\n",
       "      <td>2</td>\n",
       "      <td>演播室</td>\n",
       "      <td>923</td>\n",
       "      <td>36.92</td>\n",
       "      <td>False</td>\n",
       "      <td>True</td>\n",
       "      <td>0</td>\n",
       "      <td>[../tmp/images/湖口/20190516/6_1.jpg]</td>\n",
       "      <td>474</td>\n",
       "      <td>18.96</td>\n",
       "      <td>../tmp/story-clips/湖口/20190516/0.mp4</td>\n",
       "    </tr>\n",
       "    <tr>\n",
       "      <th>1</th>\n",
       "      <td>../tmp/story-clips/湖口/20190516/1.mp3</td>\n",
       "      <td>0</td>\n",
       "      <td>无字幕内容</td>\n",
       "      <td>951</td>\n",
       "      <td>55.04</td>\n",
       "      <td>False</td>\n",
       "      <td>False</td>\n",
       "      <td>1</td>\n",
       "      <td>[../tmp/images/湖口/20190516/7_1.jpg]</td>\n",
       "      <td>923</td>\n",
       "      <td>36.92</td>\n",
       "      <td>../tmp/story-clips/湖口/20190516/1.mp4</td>\n",
       "    </tr>\n",
       "    <tr>\n",
       "      <th>2</th>\n",
       "      <td>../tmp/story-clips/湖口/20190516/2.mp3</td>\n",
       "      <td>2</td>\n",
       "      <td>演播室</td>\n",
       "      <td>2521</td>\n",
       "      <td>100.84</td>\n",
       "      <td>False</td>\n",
       "      <td>True</td>\n",
       "      <td>2</td>\n",
       "      <td>[../tmp/images/湖口/20190516/19_1.jpg]</td>\n",
       "      <td>1376</td>\n",
       "      <td>55.04</td>\n",
       "      <td>../tmp/story-clips/湖口/20190516/2.mp4</td>\n",
       "    </tr>\n",
       "    <tr>\n",
       "      <th>3</th>\n",
       "      <td>../tmp/story-clips/湖口/20190516/3.mp3</td>\n",
       "      <td>1</td>\n",
       "      <td>有字幕内容</td>\n",
       "      <td>2615</td>\n",
       "      <td>369.00</td>\n",
       "      <td>True</td>\n",
       "      <td>False</td>\n",
       "      <td>3</td>\n",
       "      <td>[../tmp/images/湖口/20190516/20_1.jpg]</td>\n",
       "      <td>2521</td>\n",
       "      <td>100.84</td>\n",
       "      <td>../tmp/story-clips/湖口/20190516/3.mp4</td>\n",
       "    </tr>\n",
       "    <tr>\n",
       "      <th>4</th>\n",
       "      <td>../tmp/story-clips/湖口/20190516/4.mp3</td>\n",
       "      <td>2</td>\n",
       "      <td>演播室</td>\n",
       "      <td>9961</td>\n",
       "      <td>398.44</td>\n",
       "      <td>False</td>\n",
       "      <td>True</td>\n",
       "      <td>5</td>\n",
       "      <td>[../tmp/images/湖口/20190516/72_1.jpg]</td>\n",
       "      <td>9225</td>\n",
       "      <td>369.00</td>\n",
       "      <td>../tmp/story-clips/湖口/20190516/4.mp4</td>\n",
       "    </tr>\n",
       "    <tr>\n",
       "      <th>5</th>\n",
       "      <td>../tmp/story-clips/湖口/20190516/5.mp3</td>\n",
       "      <td>1</td>\n",
       "      <td>有字幕内容</td>\n",
       "      <td>10049</td>\n",
       "      <td>521.60</td>\n",
       "      <td>True</td>\n",
       "      <td>False</td>\n",
       "      <td>6</td>\n",
       "      <td>[../tmp/images/湖口/20190516/73_1.jpg]</td>\n",
       "      <td>9961</td>\n",
       "      <td>398.44</td>\n",
       "      <td>../tmp/story-clips/湖口/20190516/5.mp4</td>\n",
       "    </tr>\n",
       "    <tr>\n",
       "      <th>6</th>\n",
       "      <td>../tmp/story-clips/湖口/20190516/6.mp3</td>\n",
       "      <td>2</td>\n",
       "      <td>演播室</td>\n",
       "      <td>13417</td>\n",
       "      <td>536.68</td>\n",
       "      <td>False</td>\n",
       "      <td>True</td>\n",
       "      <td>8</td>\n",
       "      <td>[../tmp/images/湖口/20190516/97_1.jpg]</td>\n",
       "      <td>13040</td>\n",
       "      <td>521.60</td>\n",
       "      <td>../tmp/story-clips/湖口/20190516/6.mp4</td>\n",
       "    </tr>\n",
       "    <tr>\n",
       "      <th>7</th>\n",
       "      <td>../tmp/story-clips/湖口/20190516/7.mp3</td>\n",
       "      <td>1</td>\n",
       "      <td>有字幕内容</td>\n",
       "      <td>13610</td>\n",
       "      <td>707.72</td>\n",
       "      <td>True</td>\n",
       "      <td>False</td>\n",
       "      <td>9</td>\n",
       "      <td>[../tmp/images/湖口/20190516/98_1.jpg]</td>\n",
       "      <td>13417</td>\n",
       "      <td>536.68</td>\n",
       "      <td>../tmp/story-clips/湖口/20190516/7.mp4</td>\n",
       "    </tr>\n",
       "    <tr>\n",
       "      <th>8</th>\n",
       "      <td>../tmp/story-clips/湖口/20190516/8.mp3</td>\n",
       "      <td>2</td>\n",
       "      <td>演播室</td>\n",
       "      <td>17795</td>\n",
       "      <td>711.80</td>\n",
       "      <td>False</td>\n",
       "      <td>True</td>\n",
       "      <td>15</td>\n",
       "      <td>[../tmp/images/湖口/20190516/138_1.jpg]</td>\n",
       "      <td>17693</td>\n",
       "      <td>707.72</td>\n",
       "      <td>../tmp/story-clips/湖口/20190516/8.mp4</td>\n",
       "    </tr>\n",
       "    <tr>\n",
       "      <th>9</th>\n",
       "      <td>../tmp/story-clips/湖口/20190516/9.mp3</td>\n",
       "      <td>0</td>\n",
       "      <td>无字幕内容</td>\n",
       "      <td>17879</td>\n",
       "      <td>739.08</td>\n",
       "      <td>False</td>\n",
       "      <td>False</td>\n",
       "      <td>16</td>\n",
       "      <td>[../tmp/images/湖口/20190516/139_1.jpg]</td>\n",
       "      <td>17795</td>\n",
       "      <td>711.80</td>\n",
       "      <td>../tmp/story-clips/湖口/20190516/9.mp4</td>\n",
       "    </tr>\n",
       "  </tbody>\n",
       "</table>\n",
       "</div>"
      ],
      "text/plain": [
       "                             audio_file  class class_name  end_frame  \\\n",
       "0  ../tmp/story-clips/湖口/20190516/0.mp3      2        演播室        923   \n",
       "1  ../tmp/story-clips/湖口/20190516/1.mp3      0      无字幕内容        951   \n",
       "2  ../tmp/story-clips/湖口/20190516/2.mp3      2        演播室       2521   \n",
       "3  ../tmp/story-clips/湖口/20190516/3.mp3      1      有字幕内容       2615   \n",
       "4  ../tmp/story-clips/湖口/20190516/4.mp3      2        演播室       9961   \n",
       "5  ../tmp/story-clips/湖口/20190516/5.mp3      1      有字幕内容      10049   \n",
       "6  ../tmp/story-clips/湖口/20190516/6.mp3      2        演播室      13417   \n",
       "7  ../tmp/story-clips/湖口/20190516/7.mp3      1      有字幕内容      13610   \n",
       "8  ../tmp/story-clips/湖口/20190516/8.mp3      2        演播室      17795   \n",
       "9  ../tmp/story-clips/湖口/20190516/9.mp3      0      无字幕内容      17879   \n",
       "\n",
       "   end_time  has_subtitle  in_studio  index  \\\n",
       "0     36.92         False       True      0   \n",
       "1     55.04         False      False      1   \n",
       "2    100.84         False       True      2   \n",
       "3    369.00          True      False      3   \n",
       "4    398.44         False       True      5   \n",
       "5    521.60          True      False      6   \n",
       "6    536.68         False       True      8   \n",
       "7    707.72          True      False      9   \n",
       "8    711.80         False       True     15   \n",
       "9    739.08         False      False     16   \n",
       "\n",
       "                               snapshots  start_frame  start_time  \\\n",
       "0    [../tmp/images/湖口/20190516/6_1.jpg]          474       18.96   \n",
       "1    [../tmp/images/湖口/20190516/7_1.jpg]          923       36.92   \n",
       "2   [../tmp/images/湖口/20190516/19_1.jpg]         1376       55.04   \n",
       "3   [../tmp/images/湖口/20190516/20_1.jpg]         2521      100.84   \n",
       "4   [../tmp/images/湖口/20190516/72_1.jpg]         9225      369.00   \n",
       "5   [../tmp/images/湖口/20190516/73_1.jpg]         9961      398.44   \n",
       "6   [../tmp/images/湖口/20190516/97_1.jpg]        13040      521.60   \n",
       "7   [../tmp/images/湖口/20190516/98_1.jpg]        13417      536.68   \n",
       "8  [../tmp/images/湖口/20190516/138_1.jpg]        17693      707.72   \n",
       "9  [../tmp/images/湖口/20190516/139_1.jpg]        17795      711.80   \n",
       "\n",
       "                             video_file  \n",
       "0  ../tmp/story-clips/湖口/20190516/0.mp4  \n",
       "1  ../tmp/story-clips/湖口/20190516/1.mp4  \n",
       "2  ../tmp/story-clips/湖口/20190516/2.mp4  \n",
       "3  ../tmp/story-clips/湖口/20190516/3.mp4  \n",
       "4  ../tmp/story-clips/湖口/20190516/4.mp4  \n",
       "5  ../tmp/story-clips/湖口/20190516/5.mp4  \n",
       "6  ../tmp/story-clips/湖口/20190516/6.mp4  \n",
       "7  ../tmp/story-clips/湖口/20190516/7.mp4  \n",
       "8  ../tmp/story-clips/湖口/20190516/8.mp4  \n",
       "9  ../tmp/story-clips/湖口/20190516/9.mp4  "
      ]
     },
     "metadata": {},
     "output_type": "display_data"
    },
    {
     "name": "stdout",
     "output_type": "stream",
     "text": [
      "=========================================================\n",
      "\n",
      "片段 [1](0:00:18.960000 ~ 0:00:36.920000)\n"
     ]
    },
    {
     "data": {
      "text/html": [
       "<video src=\"../tmp/story-clips/湖口/20190516/0.mp4\" controls  >\n",
       "      Your browser does not support the <code>video</code> element.\n",
       "    </video>"
      ],
      "text/plain": [
       "<IPython.core.display.Video object>"
      ]
     },
     "metadata": {},
     "output_type": "display_data"
    },
    {
     "name": "stdout",
     "output_type": "stream",
     "text": [
      "-----------------------------------------------------\n",
      "片段 [2](0:00:36.920000 ~ 0:00:55.040000)\n"
     ]
    },
    {
     "data": {
      "text/html": [
       "<video src=\"../tmp/story-clips/湖口/20190516/1.mp4\" controls  >\n",
       "      Your browser does not support the <code>video</code> element.\n",
       "    </video>"
      ],
      "text/plain": [
       "<IPython.core.display.Video object>"
      ]
     },
     "metadata": {},
     "output_type": "display_data"
    },
    {
     "name": "stdout",
     "output_type": "stream",
     "text": [
      "-----------------------------------------------------\n",
      "片段 [3](0:00:55.040000 ~ 0:01:40.840000)\n"
     ]
    },
    {
     "data": {
      "text/html": [
       "<video src=\"../tmp/story-clips/湖口/20190516/2.mp4\" controls  >\n",
       "      Your browser does not support the <code>video</code> element.\n",
       "    </video>"
      ],
      "text/plain": [
       "<IPython.core.display.Video object>"
      ]
     },
     "metadata": {},
     "output_type": "display_data"
    },
    {
     "name": "stdout",
     "output_type": "stream",
     "text": [
      "-----------------------------------------------------\n",
      "片段 [4](0:01:40.840000 ~ 0:06:09)\n"
     ]
    },
    {
     "data": {
      "text/html": [
       "<video src=\"../tmp/story-clips/湖口/20190516/3.mp4\" controls  >\n",
       "      Your browser does not support the <code>video</code> element.\n",
       "    </video>"
      ],
      "text/plain": [
       "<IPython.core.display.Video object>"
      ]
     },
     "metadata": {},
     "output_type": "display_data"
    },
    {
     "name": "stdout",
     "output_type": "stream",
     "text": [
      "-----------------------------------------------------\n",
      "片段 [5](0:06:09 ~ 0:06:38.440000)\n"
     ]
    },
    {
     "data": {
      "text/html": [
       "<video src=\"../tmp/story-clips/湖口/20190516/4.mp4\" controls  >\n",
       "      Your browser does not support the <code>video</code> element.\n",
       "    </video>"
      ],
      "text/plain": [
       "<IPython.core.display.Video object>"
      ]
     },
     "metadata": {},
     "output_type": "display_data"
    },
    {
     "name": "stdout",
     "output_type": "stream",
     "text": [
      "-----------------------------------------------------\n",
      "片段 [6](0:06:38.440000 ~ 0:08:41.600000)\n"
     ]
    },
    {
     "data": {
      "text/html": [
       "<video src=\"../tmp/story-clips/湖口/20190516/5.mp4\" controls  >\n",
       "      Your browser does not support the <code>video</code> element.\n",
       "    </video>"
      ],
      "text/plain": [
       "<IPython.core.display.Video object>"
      ]
     },
     "metadata": {},
     "output_type": "display_data"
    },
    {
     "name": "stdout",
     "output_type": "stream",
     "text": [
      "-----------------------------------------------------\n",
      "片段 [7](0:08:41.600000 ~ 0:08:56.680000)\n"
     ]
    },
    {
     "data": {
      "text/html": [
       "<video src=\"../tmp/story-clips/湖口/20190516/6.mp4\" controls  >\n",
       "      Your browser does not support the <code>video</code> element.\n",
       "    </video>"
      ],
      "text/plain": [
       "<IPython.core.display.Video object>"
      ]
     },
     "metadata": {},
     "output_type": "display_data"
    },
    {
     "name": "stdout",
     "output_type": "stream",
     "text": [
      "-----------------------------------------------------\n",
      "片段 [8](0:08:56.680000 ~ 0:11:47.720000)\n"
     ]
    },
    {
     "data": {
      "text/html": [
       "<video src=\"../tmp/story-clips/湖口/20190516/7.mp4\" controls  >\n",
       "      Your browser does not support the <code>video</code> element.\n",
       "    </video>"
      ],
      "text/plain": [
       "<IPython.core.display.Video object>"
      ]
     },
     "metadata": {},
     "output_type": "display_data"
    },
    {
     "name": "stdout",
     "output_type": "stream",
     "text": [
      "-----------------------------------------------------\n",
      "片段 [9](0:11:47.720000 ~ 0:11:51.800000)\n"
     ]
    },
    {
     "data": {
      "text/html": [
       "<video src=\"../tmp/story-clips/湖口/20190516/8.mp4\" controls  >\n",
       "      Your browser does not support the <code>video</code> element.\n",
       "    </video>"
      ],
      "text/plain": [
       "<IPython.core.display.Video object>"
      ]
     },
     "metadata": {},
     "output_type": "display_data"
    },
    {
     "name": "stdout",
     "output_type": "stream",
     "text": [
      "-----------------------------------------------------\n",
      "片段 [10](0:11:51.800000 ~ 0:12:19.080000)\n"
     ]
    },
    {
     "data": {
      "text/html": [
       "<video src=\"../tmp/story-clips/湖口/20190516/9.mp4\" controls  >\n",
       "      Your browser does not support the <code>video</code> element.\n",
       "    </video>"
      ],
      "text/plain": [
       "<IPython.core.display.Video object>"
      ]
     },
     "metadata": {},
     "output_type": "display_data"
    },
    {
     "name": "stdout",
     "output_type": "stream",
     "text": [
      "-----------------------------------------------------\n"
     ]
    }
   ],
   "source": [
    "print('classifying ....')\n",
    "\n",
    "# 首先，定义相关的变量、函数，导入需要的模块，加载预训练模型：\n",
    "\n",
    "import torch\n",
    "from torchvision import datasets, models, transforms\n",
    "\n",
    "\n",
    "IMAGE_CLASSES = {\n",
    "    0: '无字幕内容',\n",
    "    1: '有字幕内容',\n",
    "    2: '演播室',\n",
    "}\n",
    "\n",
    "\n",
    "INPUT_SIZE = 224\n",
    "\n",
    "\n",
    "data_transforms = {\n",
    "    'train': transforms.Compose([\n",
    "        transforms.RandomResizedCrop(INPUT_SIZE),\n",
    "        transforms.RandomHorizontalFlip(),\n",
    "        transforms.ToTensor(),\n",
    "        # transforms.Normalize([0.485, 0.456, 0.406], [0.229, 0.224, 0.225])\n",
    "        transforms.Normalize(mean=(0.5, 0.5, 0.5), std=(0.5, 0.5, 0.5))\n",
    "    ]),\n",
    "    'val': transforms.Compose([\n",
    "        transforms.Resize(INPUT_SIZE),\n",
    "        transforms.CenterCrop(INPUT_SIZE),\n",
    "        transforms.ToTensor(),\n",
    "        # transforms.Normalize([0.485, 0.456, 0.406], [0.229, 0.224, 0.225])\n",
    "        transforms.Normalize(mean=(0.5, 0.5, 0.5), std=(0.5, 0.5, 0.5))\n",
    "    ]),\n",
    "}\n",
    "\n",
    "\n",
    "def load_image_classify_model(path):\n",
    "    device = torch.device('cuda') if torch.cuda.is_available() else torch.device('cpu')\n",
    "    if device.type == 'cpu':\n",
    "        model_ft = torch.load(path, map_location='cpu')\n",
    "        if isinstance(model_ft, nn.DataParallel):\n",
    "            model_ft = model_ft.module\n",
    "    else:\n",
    "        if torch.cuda.device_count() > 1:\n",
    "            model_ft = torch.load(path)\n",
    "            model_ft = model_ft.to(device)\n",
    "    return model_ft\n",
    "\n",
    "\n",
    "\n",
    "def classify_scenes(scenes, model):\n",
    "    tsfrm = data_transforms['val']\n",
    "    samples_iter = (\n",
    "        tsfrm(transforms.ToPILImage()(skimage.io.imread(path)))\n",
    "        for path in (\n",
    "            scene['snapshots'][0]\n",
    "            for scene in scenes\n",
    "        )\n",
    "    )\n",
    "    with torch.no_grad():\n",
    "        model = model.eval()\n",
    "        batched_samples = torch.tensor([np.array(im) for im in samples_iter]).to(device)\n",
    "        predict_result = model(batched_samples)\n",
    "    \n",
    "    for scores, scene in zip(predict_result, scenes):\n",
    "        class_score = sorted(chain.from_iterable(zip(enumerate(scores))), key=lambda x: x[1], reverse=True)\n",
    "        top_class, top_score = class_score[0]\n",
    "        scene['class'] = top_class\n",
    "        scene['class_name'] = IMAGE_CLASSES[top_class]\n",
    "\n",
    "image_classify_model_archive = '../models/squeezenet1_0-py36.pkl'\n",
    "image_classify_model = load_image_classify_model(image_classify_model_archive)\n",
    "\n",
    "# print('加载的预训练模型是:', image_classify_model)\n",
    "# 执行场景视觉分类，并输出缩略图预览\n",
    "\n",
    "from itertools import chain\n",
    "\n",
    "import numpy as np\n",
    "import matplotlib.pyplot as plt\n",
    "import matplotlib.image as mpimg\n",
    "import skimage\n",
    "from torchvision import datasets, models, transforms\n",
    "from time import sleep\n",
    "\n",
    "from matplotlib.offsetbox import AnchoredText\n",
    "from matplotlib.patheffects import withStroke\n",
    "from mpl_toolkits.axes_grid1 import ImageGrid\n",
    "from IPython.display import display, Image\n",
    "\n",
    "from tqdm import tqdm_notebook as tqdm\n",
    "\n",
    "\n",
    "print('预测: 场景分类 ...')\n",
    "%time classify_scenes(scenes, image_classify_model)\n",
    "print('预测完毕!')\n",
    "\n",
    "\n",
    "###################################################\n",
    "\n",
    "print('重组合场景')\n",
    "\n",
    "# 合并类型相同的连续场景，去掉第一个演播室之前的\n",
    "\n",
    "merged_scenes = []\n",
    "\n",
    "for scene in scenes:\n",
    "    if not merged_scenes:\n",
    "        merged_scenes.append(deepcopy(scene))\n",
    "    else:\n",
    "        if merged_scenes[-1]['class'] == scene['class']:\n",
    "            merged_scenes[-1]['end_time'] = scene['end_time']\n",
    "        else:\n",
    "            merged_scenes.append(deepcopy(scene))\n",
    "\n",
    "while merged_scenes[0]['class'] != 2:\n",
    "    del merged_scenes[0]\n",
    "\n",
    "for i, scene in enumerate(merged_scenes):\n",
    "    scene['index'] = i\n",
    "\n",
    "pd.DataFrame(merged_scenes)\n",
    "\n",
    "\n",
    "##############################################################\n",
    "# 合并为故事\n",
    "\n",
    "stories = []\n",
    "\n",
    "for scene in merged_scenes:\n",
    "    scene_class = scene['class']\n",
    "    has_subtitle = scene_class == 1  # 是否有字幕\n",
    "    in_studio = scene_class == 2  #  是否在演播室\n",
    "    \n",
    "    if not stories: # 第一个，总是添加\n",
    "        d = deepcopy(scene)\n",
    "        d['in_studio'] = in_studio\n",
    "        d['has_subtitle'] = has_subtitle\n",
    "        stories.append(d)\n",
    "\n",
    "    elif in_studio:  # 只要是演播室，就要添加\n",
    "        d = deepcopy(scene)\n",
    "        d['in_studio'] = in_studio\n",
    "        d['has_subtitle'] = has_subtitle\n",
    "        stories.append(d)\n",
    "\n",
    "    elif has_subtitle:  #  这次有字幕\n",
    "        if stories[-1]['in_studio']:  # 上一个是演播室\n",
    "            d = deepcopy(scene)\n",
    "            d['in_studio'] = in_studio\n",
    "            d['has_subtitle'] = has_subtitle\n",
    "            stories.append(d)\n",
    "\n",
    "    else: # 这次没有字符\n",
    "        if stories[-1]['in_studio']:  # 上一个是演播室\n",
    "            d = deepcopy(scene)\n",
    "            d['in_studio'] = in_studio\n",
    "            d['has_subtitle'] = has_subtitle\n",
    "            stories.append(d)\n",
    "        else:\n",
    "            stories[-1]['end_time'] = scene['end_time']\n",
    "\n",
    "\n",
    "#################################################################\n",
    "# 切割故事 A/V 片段\n",
    "from tqdm import tqdm_notebook as tqdm\n",
    "\n",
    "print('切割故事 A/V 片段 ... ')\n",
    "dirname, basename = os.path.split(VIDEO_FILE)\n",
    "basename, extname = os.path.splitext(basename)\n",
    "clips_dir = os.path.join(\n",
    "    '..',\n",
    "    'tmp',\n",
    "    'story-clips',\n",
    "    os.path.relpath(dirname, VIDEO_DIR),\n",
    "    basename\n",
    ")\n",
    "rmtree(clips_dir, ignore_errors=True)\n",
    "\n",
    "print('tmp-dir: ', clips_dir)\n",
    "sleep(1)\n",
    "\n",
    "for i, story in tqdm(enumerate(stories), total=len(stories)):\n",
    "    story['video_file'] = os.path.join(clips_dir, f'{i}{extname}')\n",
    "    os.makedirs(os.path.dirname(story['video_file']), exist_ok=True)\n",
    "    \n",
    "    story['audio_file'] = os.path.join(clips_dir, f'{i}.mp3')\n",
    "    os.makedirs(os.path.dirname(story['audio_file']), exist_ok=True)\n",
    "\n",
    "    trunc_av(VIDEO_FILE, story['start_time'], story['end_time'], story['video_file'])\n",
    "    trunc_a(VIDEO_FILE, story['start_time'], story['end_time'], story['audio_file'])\n",
    "\n",
    "\n",
    "#################################################################\n",
    "# 打印结果\n",
    "print('切割后的视频列表：')\n",
    "display(pd.DataFrame(stories))\n",
    "print('=========================================================')\n",
    "print()\n",
    "for i, story in enumerate(stories):\n",
    "    print(\n",
    "        '片段 [{}]({} ~ {})'.format(\n",
    "            i+1,\n",
    "            timedelta(seconds=story['start_time']),\n",
    "            timedelta(seconds=story['end_time']))\n",
    "    )\n",
    "    display(Video(story['video_file']))\n",
    "    print('-----------------------------------------------------')\n"
   ]
  },
  {
   "cell_type": "markdown",
   "metadata": {},
   "source": [
    "## 字幕转文本"
   ]
  },
  {
   "cell_type": "markdown",
   "metadata": {},
   "source": [
    "使用 *场景分类* 一节中，被预测到具有字幕的内容，将图像中的字幕识别为文本"
   ]
  },
  {
   "cell_type": "code",
   "execution_count": 148,
   "metadata": {},
   "outputs": [
    {
     "name": "stdout",
     "output_type": "stream",
     "text": [
      "语音转文本 ...\n"
     ]
    },
    {
     "data": {
      "application/vnd.jupyter.widget-view+json": {
       "model_id": "36e81f26d30c454fa04b93aaaa45af0d",
       "version_major": 2,
       "version_minor": 0
      },
      "text/plain": [
       "HBox(children=(IntProgress(value=0, max=3), HTML(value='')))"
      ]
     },
     "metadata": {},
     "output_type": "display_data"
    },
    {
     "name": "stdout",
     "output_type": "stream",
     "text": [
      "\n",
      "输出语音转文本的结果和预览图:\n",
      "\n"
     ]
    },
    {
     "data": {
      "image/png": "[encoded data removed]",
      "text/plain": [
       "<Figure size 432x288 with 1 Axes>"
      ]
     },
     "metadata": {
      "needs_background": "light"
     },
     "output_type": "display_data"
    },
    {
     "data": {
      "text/html": [
       "<video src=\"../tmp/story-clips/湖口/20190516/3.mp4\" controls  >\n",
       "      Your browser does not support the <code>video</code> element.\n",
       "    </video>"
      ],
      "text/plain": [
       "<IPython.core.display.Video object>"
      ]
     },
     "metadata": {},
     "output_type": "display_data"
    },
    {
     "name": "stdout",
     "output_type": "stream",
     "text": [
      "字幕： 湖口新闻 2019年县级总河（湖）长和总林长会议召开 HKTV NEWS 记者陈军\n",
      "----------------------------------------------------------------------------------------------------\n",
      "\n"
     ]
    },
    {
     "data": {
      "image/png": "[encoded data removed]",
      "text/plain": [
       "<Figure size 432x288 with 1 Axes>"
      ]
     },
     "metadata": {
      "needs_background": "light"
     },
     "output_type": "display_data"
    },
    {
     "data": {
      "text/html": [
       "<video src=\"../tmp/story-clips/湖口/20190516/5.mp4\" controls  >\n",
       "      Your browser does not support the <code>video</code> element.\n",
       "    </video>"
      ],
      "text/plain": [
       "<IPython.core.display.Video object>"
      ]
     },
     "metadata": {},
     "output_type": "display_data"
    },
    {
     "name": "stdout",
     "output_type": "stream",
     "text": [
      "字幕： 湖口新闻 HKTV NEWS 2019年全县生态环境保护委员会第三次会议召开 记者陈军\n",
      "----------------------------------------------------------------------------------------------------\n",
      "\n"
     ]
    },
    {
     "data": {
      "image/png": "[encoded data removed]",
      "text/plain": [
       "<Figure size 432x288 with 1 Axes>"
      ]
     },
     "metadata": {
      "needs_background": "light"
     },
     "output_type": "display_data"
    },
    {
     "data": {
      "text/html": [
       "<video src=\"../tmp/story-clips/湖口/20190516/7.mp4\" controls  >\n",
       "      Your browser does not support the <code>video</code> element.\n",
       "    </video>"
      ],
      "text/plain": [
       "<IPython.core.display.Video object>"
      ]
     },
     "metadata": {},
     "output_type": "display_data"
    },
    {
     "name": "stdout",
     "output_type": "stream",
     "text": [
      "字幕： 湖口新闻 市工信局领导来我县调研 HKTV NEWS 记者徐会刚\n",
      "----------------------------------------------------------------------------------------------------\n",
      "\n"
     ]
    }
   ],
   "source": [
    "import math\n",
    "import base64\n",
    "import hashlib\n",
    "import urllib\n",
    "\n",
    "import requests\n",
    "import skimage\n",
    "\n",
    "from tqdm import tqdm_notebook as tqdm\n",
    "\n",
    "def im_to_b64(ar, ext_name='.jpeg'):\n",
    "    from tempfile import mkstemp\n",
    "    from base64 import b64encode\n",
    "    \n",
    "    _, path = mkstemp(suffix=ext_name)\n",
    "    try:\n",
    "        skimage.io.imsave(path, ar)\n",
    "        with open(path, 'rb') as fp:\n",
    "            data = fp.read()\n",
    "    finally:\n",
    "        os.remove(path)\n",
    "    return b64encode(data).decode()\n",
    "\n",
    "def crop_for_subtitme(path):\n",
    "    im = skimage.io.imread(path)\n",
    "    height, width, _ = im.shape\n",
    "    height_crop_fr = math.trunc(height * 0.80)\n",
    "    height_crop_to = math.trunc(height * 0.02)\n",
    "    cropped = skimage.util.crop(\n",
    "        im,\n",
    "        ((height_crop_fr, height_crop_to), (0, 0), (0, 0))\n",
    "    )\n",
    "    return cropped\n",
    "\n",
    "\n",
    "def ocr(ar):\n",
    "    url = os.getenv('OCR_API_URL')\n",
    "    pid = os.getenv('OCR_API_PID')\n",
    "    key = os.getenv('OCR_API_KEY')\n",
    "    service = os.getenv('OCR_API_SERVICE')\n",
    "    salt = os.getenv('OCR_API_SALT')\n",
    "\n",
    "    def _md5(s):\n",
    "        m = hashlib.md5()\n",
    "        m.update(s.encode(\"utf8\"))\n",
    "        return m.hexdigest()\n",
    "\n",
    "    image_base64_str = im_to_b64(ar)\n",
    "    image_short = image_base64_str[0:1024]\n",
    "    sign = _md5(pid + service + salt + image_short + key)\n",
    "\n",
    "    data = {\n",
    "        'pid': pid,\n",
    "        'service': service,\n",
    "        'sign': sign,\n",
    "        'salt': salt,\n",
    "        'image': image_base64_str,\n",
    "    }\n",
    "    headers = {\n",
    "        'accept': \"application/json\"\n",
    "    }\n",
    "    res = requests.request(\"POST\", url, data=data, headers=headers)\n",
    "    res = res.json()\n",
    "\n",
    "    if(res[\"success\"]) == 1:\n",
    "        result = res['result']\n",
    "        return result\n",
    "    else:\n",
    "        raise RuntimeError(\"OCR ERROR\")\n",
    "\n",
    "        \n",
    "print('语音转文本 ...')\n",
    "\n",
    "_stories = [m for m in stories if m['has_subtitle']]\n",
    "        \n",
    "for story in tqdm(_stories):\n",
    "    if story['has_subtitle']:\n",
    "        im_path = story['snapshots'][0]\n",
    "        ar = crop_for_subtitme(im_path)\n",
    "        story['ocr_result'] = ocr(ar)\n",
    "\n",
    "print('输出语音转文本的结果和预览图:')\n",
    "print()\n",
    "\n",
    "for story in _stories:\n",
    "    im_path = story['snapshots'][0]\n",
    "#     display(Image(im_path))\n",
    "    skimage.io.imshow(im_path)\n",
    "    plt.pause(1)\n",
    "    display(Video(story['video_file']))\n",
    "    subtitles = [group['content'].strip() for group in story['ocr_result']]\n",
    "    print('字幕：', ' '.join(subtitles))\n",
    "    print('-' * 100)\n",
    "    print()"
   ]
  },
  {
   "cell_type": "markdown",
   "metadata": {},
   "source": [
    "## 语音转本文"
   ]
  },
  {
   "cell_type": "markdown",
   "metadata": {},
   "source": [
    "使用 *场景识别分类* 一节中，被预测到是演播室的内容，将播报的语音识别为文本"
   ]
  },
  {
   "cell_type": "code",
   "execution_count": 143,
   "metadata": {},
   "outputs": [
    {
     "name": "stdout",
     "output_type": "stream",
     "text": [
      "语音识别 ...\n"
     ]
    },
    {
     "data": {
      "application/vnd.jupyter.widget-view+json": {
       "model_id": "91fa2c19b43b42d7a3316b7741b96bef",
       "version_major": 2,
       "version_minor": 0
      },
      "text/plain": [
       "HBox(children=(IntProgress(value=0, max=5), HTML(value='')))"
      ]
     },
     "metadata": {},
     "output_type": "display_data"
    },
    {
     "name": "stdout",
     "output_type": "stream",
     "text": [
      "/prepare success:{'data': 'a895a5419b36487e8079b67359f7ac21', 'err_no': 0, 'failed': None, 'ok': 0}\n",
      "/upload success:{'data': None, 'err_no': 0, 'failed': None, 'ok': 0}\n",
      "upload slice 1 success\n",
      "/merge success:{'data': None, 'err_no': 0, 'failed': None, 'ok': 0}\n",
      "/getProgress success:{'data': '{\"status\":2,\"desc\":\"音频合并完成\"}', 'err_no': 0, 'failed': None, 'ok': 0}\n",
      "The task a895a5419b36487e8079b67359f7ac21 is in processing, task status: {\"status\":2,\"desc\":\"音频合并完成\"}\n",
      "/getProgress success:{'data': '{\"status\":9,\"desc\":\"转写结果上传完成\"}', 'err_no': 0, 'failed': None, 'ok': 0}\n",
      "task a895a5419b36487e8079b67359f7ac21 finished\n",
      "/getResult success:{'data': '[{\"bg\":\"580\",\"ed\":\"1880\",\"onebest\":\"观众朋友晚上好！\",\"speaker\":\"0\"},{\"bg\":\"1880\",\"ed\":\"4330\",\"onebest\":\"今天是2019年5月16号星期四，\",\"speaker\":\"0\"},{\"bg\":\"4780\",\"ed\":\"5000\",\"onebest\":\"今天。\",\"speaker\":\"0\"},{\"bg\":\"5010\",\"ed\":\"7030\",\"onebest\":\"湖口新闻的主要内容有\",\"speaker\":\"0\"},{\"bg\":\"7050\",\"ed\":\"8020\",\"onebest\":\"2019年。\",\"speaker\":\"0\"},{\"bg\":\"8030\",\"ed\":\"8730\",\"onebest\":\"县级总和！\",\"speaker\":\"0\"},{\"bg\":\"8740\",\"ed\":\"11340\",\"onebest\":\"胡长和总领长会议召开。\",\"speaker\":\"0\"},{\"bg\":\"11350\",\"ed\":\"12220\",\"onebest\":\"2019年。\",\"speaker\":\"0\"},{\"bg\":\"12230\",\"ed\":\"13270\",\"onebest\":\"全县生态环境。\",\"speaker\":\"0\"},{\"bg\":\"13280\",\"ed\":\"15550\",\"onebest\":\"保护委员会第三次会议召开，\",\"speaker\":\"0\"},{\"bg\":\"15560\",\"ed\":\"17790\",\"onebest\":\"下面请看详细报道！\",\"speaker\":\"0\"}]', 'err_no': 0, 'failed': None, 'ok': 0}\n",
      "/prepare success:{'data': '4ff6adc940a643449c212d0ad3428d13', 'err_no': 0, 'failed': None, 'ok': 0}\n",
      "/upload success:{'data': None, 'err_no': 0, 'failed': None, 'ok': 0}\n",
      "upload slice 1 success\n",
      "/merge success:{'data': None, 'err_no': 0, 'failed': None, 'ok': 0}\n",
      "/getProgress success:{'data': '{\"status\":2,\"desc\":\"音频合并完成\"}', 'err_no': 0, 'failed': None, 'ok': 0}\n",
      "The task 4ff6adc940a643449c212d0ad3428d13 is in processing, task status: {\"status\":2,\"desc\":\"音频合并完成\"}\n",
      "/getProgress success:{'data': '{\"status\":9,\"desc\":\"转写结果上传完成\"}', 'err_no': 0, 'failed': None, 'ok': 0}\n",
      "task 4ff6adc940a643449c212d0ad3428d13 finished\n",
      "/getResult success:{'data': '[{\"bg\":\"280\",\"ed\":\"1470\",\"onebest\":\"5月15号。\",\"speaker\":\"0\"},{\"bg\":\"1480\",\"ed\":\"5230\",\"onebest\":\"县委书记李小平主持召开2019年县级总和。\",\"speaker\":\"0\"},{\"bg\":\"5240\",\"ed\":\"5840\",\"onebest\":\"胡长。\",\"speaker\":\"0\"},{\"bg\":\"5850\",\"ed\":\"7410\",\"onebest\":\"和总磷长会议，\",\"speaker\":\"0\"},{\"bg\":\"7430\",\"ed\":\"10550\",\"onebest\":\"他强调要从树牢四个一事进行两个。\",\"speaker\":\"0\"},{\"bg\":\"10560\",\"ed\":\"11750\",\"onebest\":\"维护的政治高度！\",\"speaker\":\"0\"},{\"bg\":\"11760\",\"ed\":\"12810\",\"onebest\":\"切实把。\",\"speaker\":\"0\"},{\"bg\":\"12820\",\"ed\":\"16610\",\"onebest\":\"何长志虎涨至零涨至各项工作任务落到实处！\",\"speaker\":\"0\"},{\"bg\":\"16620\",\"ed\":\"26190\",\"onebest\":\"努力保护好我县河湖森林资源，不断巩固提升绿色生态优势，为争当全市建设长江经济带绿色发展示范区和。\",\"speaker\":\"0\"},{\"bg\":\"26200\",\"ed\":\"26740\",\"onebest\":\"高质量！\",\"speaker\":\"0\"},{\"bg\":\"26750\",\"ed\":\"37160\",\"onebest\":\"跨越式发展排头兵提供有力保障。县委副书记县长相信开出席会议并讲话，县委副书记张楠，县政协主席杨晓琳，县领导，\",\"speaker\":\"0\"},{\"bg\":\"37170\",\"ed\":\"45680\",\"onebest\":\"有史文查中品张鹏来柯景坤，马海燕，叶子卢伟俊，李水木杨庆周小喜出席会议。\",\"speaker\":\"0\"}]', 'err_no': 0, 'failed': None, 'ok': 0}\n",
      "/prepare success:{'data': '2b646f16fa4f41edb09866351c78989f', 'err_no': 0, 'failed': None, 'ok': 0}\n",
      "/upload success:{'data': None, 'err_no': 0, 'failed': None, 'ok': 0}\n",
      "upload slice 1 success\n",
      "/merge success:{'data': None, 'err_no': 0, 'failed': None, 'ok': 0}\n",
      "/getProgress success:{'data': '{\"status\":2,\"desc\":\"音频合并完成\"}', 'err_no': 0, 'failed': None, 'ok': 0}\n",
      "The task 2b646f16fa4f41edb09866351c78989f is in processing, task status: {\"status\":2,\"desc\":\"音频合并完成\"}\n",
      "/getProgress success:{'data': '{\"status\":9,\"desc\":\"转写结果上传完成\"}', 'err_no': 0, 'failed': None, 'ok': 0}\n",
      "task 2b646f16fa4f41edb09866351c78989f finished\n",
      "/getResult success:{'data': '[{\"bg\":\"380\",\"ed\":\"1600\",\"onebest\":\"5月15号。\",\"speaker\":\"0\"},{\"bg\":\"1610\",\"ed\":\"5840\",\"onebest\":\"县委书记李小平主持召开2019年全县生态环境。\",\"speaker\":\"0\"},{\"bg\":\"5850\",\"ed\":\"6670\",\"onebest\":\"保护委员会第。\",\"speaker\":\"0\"},{\"bg\":\"6680\",\"ed\":\"23390\",\"onebest\":\"三次会议，县委副书记县长相信开出席会议并讲话，县委副书记张楠，县政协主席杨小林，谢领导使文章中平张虹莱柯景坤马海燕，叶子卢伟俊李水木杨庆周小喜出席会议，会议听取了。\",\"speaker\":\"0\"},{\"bg\":\"23400\",\"ed\":\"29340\",\"onebest\":\"各专业委员会个专项整改小组工作进展情况和问题整改情况的汇报。\",\"speaker\":\"0\"}]', 'err_no': 0, 'failed': None, 'ok': 0}\n",
      "/prepare success:{'data': 'f3cdc2a777f54ac2a591f0d9ce1ac708', 'err_no': 0, 'failed': None, 'ok': 0}\n",
      "/upload success:{'data': None, 'err_no': 0, 'failed': None, 'ok': 0}\n",
      "upload slice 1 success\n",
      "/merge success:{'data': None, 'err_no': 0, 'failed': None, 'ok': 0}\n",
      "/getProgress success:{'data': '{\"status\":2,\"desc\":\"音频合并完成\"}', 'err_no': 0, 'failed': None, 'ok': 0}\n",
      "The task f3cdc2a777f54ac2a591f0d9ce1ac708 is in processing, task status: {\"status\":2,\"desc\":\"音频合并完成\"}\n",
      "/getProgress success:{'data': '{\"status\":9,\"desc\":\"转写结果上传完成\"}', 'err_no': 0, 'failed': None, 'ok': 0}\n",
      "task f3cdc2a777f54ac2a591f0d9ce1ac708 finished\n",
      "/getResult success:{'data': '[{\"bg\":\"460\",\"ed\":\"10710\",\"onebest\":\"5月15号，市工信局党委书记局长陈南桥来我县就传统产业转型升级和沿江小化工企业初侵等工作进行调研。\",\"speaker\":\"0\"},{\"bg\":\"10530\",\"ed\":\"11700\",\"onebest\":\"县委副书记。\",\"speaker\":\"0\"},{\"bg\":\"11710\",\"ed\":\"15090\",\"onebest\":\"县长相信，开县领导柯景坤叶子陪同！\",\"speaker\":\"0\"}]', 'err_no': 0, 'failed': None, 'ok': 0}\n",
      "/prepare success:{'data': '60b8c69ff5664198803584490dddea99', 'err_no': 0, 'failed': None, 'ok': 0}\n",
      "/upload success:{'data': None, 'err_no': 0, 'failed': None, 'ok': 0}\n",
      "upload slice 1 success\n",
      "/merge success:{'data': None, 'err_no': 0, 'failed': None, 'ok': 0}\n",
      "/getProgress success:{'data': '{\"status\":2,\"desc\":\"音频合并完成\"}', 'err_no': 0, 'failed': None, 'ok': 0}\n",
      "The task 60b8c69ff5664198803584490dddea99 is in processing, task status: {\"status\":2,\"desc\":\"音频合并完成\"}\n",
      "/getProgress success:{'data': '{\"status\":3,\"desc\":\"音频转写中\"}', 'err_no': 0, 'failed': None, 'ok': 0}\n",
      "The task 60b8c69ff5664198803584490dddea99 is in processing, task status: {\"status\":3,\"desc\":\"音频转写中\"}\n",
      "/getProgress success:{'data': '{\"status\":9,\"desc\":\"转写结果上传完成\"}', 'err_no': 0, 'failed': None, 'ok': 0}\n",
      "task 60b8c69ff5664198803584490dddea99 finished\n",
      "/getResult success:{'data': '[{\"bg\":\"270\",\"ed\":\"3830\",\"onebest\":\"好，以上就是今天新闻的全部内容，感谢收看，再见！\",\"speaker\":\"0\"}]', 'err_no': 0, 'failed': None, 'ok': 0}\n",
      "\n",
      "输出识别结果预览\n",
      "\n"
     ]
    },
    {
     "data": {
      "text/html": [
       "<video src=\"../tmp/story-clips/湖口/20190516/0.mp4\" controls  >\n",
       "      Your browser does not support the <code>video</code> element.\n",
       "    </video>"
      ],
      "text/plain": [
       "<IPython.core.display.Video object>"
      ]
     },
     "metadata": {},
     "output_type": "display_data"
    },
    {
     "name": "stdout",
     "output_type": "stream",
     "text": [
      "观众朋友晚上好！ 今天是2019年5月16号星期四， 今天。 湖口新闻的主要内容有 2019年。 县级总和！ 胡长和总领长会议召开。 2019年。 全县生态环境。 保护委员会第三次会议召开， 下面请看详细报道！\n",
      "----------------------------------------------------------------------------------------------------\n",
      "\n"
     ]
    },
    {
     "data": {
      "text/html": [
       "<video src=\"../tmp/story-clips/湖口/20190516/2.mp4\" controls  >\n",
       "      Your browser does not support the <code>video</code> element.\n",
       "    </video>"
      ],
      "text/plain": [
       "<IPython.core.display.Video object>"
      ]
     },
     "metadata": {},
     "output_type": "display_data"
    },
    {
     "name": "stdout",
     "output_type": "stream",
     "text": [
      "5月15号。 县委书记李小平主持召开2019年县级总和。 胡长。 和总磷长会议， 他强调要从树牢四个一事进行两个。 维护的政治高度！ 切实把。 何长志虎涨至零涨至各项工作任务落到实处！ 努力保护好我县河湖森林资源，不断巩固提升绿色生态优势，为争当全市建设长江经济带绿色发展示范区和。 高质量！ 跨越式发展排头兵提供有力保障。县委副书记县长相信开出席会议并讲话，县委副书记张楠，县政协主席杨晓琳，县领导， 有史文查中品张鹏来柯景坤，马海燕，叶子卢伟俊，李水木杨庆周小喜出席会议。\n",
      "----------------------------------------------------------------------------------------------------\n",
      "\n"
     ]
    },
    {
     "data": {
      "text/html": [
       "<video src=\"../tmp/story-clips/湖口/20190516/4.mp4\" controls  >\n",
       "      Your browser does not support the <code>video</code> element.\n",
       "    </video>"
      ],
      "text/plain": [
       "<IPython.core.display.Video object>"
      ]
     },
     "metadata": {},
     "output_type": "display_data"
    },
    {
     "name": "stdout",
     "output_type": "stream",
     "text": [
      "5月15号。 县委书记李小平主持召开2019年全县生态环境。 保护委员会第。 三次会议，县委副书记县长相信开出席会议并讲话，县委副书记张楠，县政协主席杨小林，谢领导使文章中平张虹莱柯景坤马海燕，叶子卢伟俊李水木杨庆周小喜出席会议，会议听取了。 各专业委员会个专项整改小组工作进展情况和问题整改情况的汇报。\n",
      "----------------------------------------------------------------------------------------------------\n",
      "\n"
     ]
    },
    {
     "data": {
      "text/html": [
       "<video src=\"../tmp/story-clips/湖口/20190516/6.mp4\" controls  >\n",
       "      Your browser does not support the <code>video</code> element.\n",
       "    </video>"
      ],
      "text/plain": [
       "<IPython.core.display.Video object>"
      ]
     },
     "metadata": {},
     "output_type": "display_data"
    },
    {
     "name": "stdout",
     "output_type": "stream",
     "text": [
      "5月15号，市工信局党委书记局长陈南桥来我县就传统产业转型升级和沿江小化工企业初侵等工作进行调研。 县委副书记。 县长相信，开县领导柯景坤叶子陪同！\n",
      "----------------------------------------------------------------------------------------------------\n",
      "\n"
     ]
    },
    {
     "data": {
      "text/html": [
       "<video src=\"../tmp/story-clips/湖口/20190516/8.mp4\" controls  >\n",
       "      Your browser does not support the <code>video</code> element.\n",
       "    </video>"
      ],
      "text/plain": [
       "<IPython.core.display.Video object>"
      ]
     },
     "metadata": {},
     "output_type": "display_data"
    },
    {
     "name": "stdout",
     "output_type": "stream",
     "text": [
      "好，以上就是今天新闻的全部内容，感谢收看，再见！\n",
      "----------------------------------------------------------------------------------------------------\n",
      "\n"
     ]
    }
   ],
   "source": [
    "import json\n",
    "\n",
    "import weblfasr_python3_demo as lfasr\n",
    "from tqdm import tqdm_notebook as tqdm\n",
    "\n",
    "\n",
    "_stories = [m for m in stories if m['in_studio']]\n",
    "\n",
    "print('语音识别 ...')\n",
    "sleep(1)\n",
    "\n",
    "for story in tqdm(_stories):\n",
    "    asr_req = lfasr.RequestApi(os.getenv(\"XFYUN_APP_ID\"), os.getenv(\"XFYUN_SECRET_KEY\"), story['audio_file'])\n",
    "    res = asr_req.all_api_request()\n",
    "    asr_res_data = json.loads(res['data'])\n",
    "    story['asr-result'] = asr_res_data\n",
    "\n",
    "print('输出识别结果预览')\n",
    "print()\n",
    "\n",
    "for story in _stories:\n",
    "    display(Video(story['video_file']))\n",
    "    text = ' '.join(m['onebest'] for m in story['asr-result'])\n",
    "    print(text)\n",
    "    print('-' * 100)\n",
    "    print()"
   ]
  },
  {
   "cell_type": "code",
   "execution_count": null,
   "metadata": {},
   "outputs": [],
   "source": []
  }
 ],
 "metadata": {
  "kernelspec": {
   "display_name": "Python [conda env:jxcn-newsvideo]",
   "language": "python",
   "name": "conda-env-jxcn-newsvideo-py"
  },
  "language_info": {
   "codemirror_mode": {
    "name": "ipython",
    "version": 3
   },
   "file_extension": ".py",
   "mimetype": "text/x-python",
   "name": "python",
   "nbconvert_exporter": "python",
   "pygments_lexer": "ipython3",
   "version": "3.6.8"
  },
  "toc-autonumbering": true,
  "toc-showcode": false,
  "toc-showmarkdowntxt": true
 },
 "nbformat": 4,
 "nbformat_minor": 4
}
