{
 "cells": [
  {
   "cell_type": "markdown",
   "metadata": {},
   "source": [
    "# 新闻视频处理演示"
   ]
  },
  {
   "cell_type": "markdown",
   "metadata": {},
   "source": [
    "在这个笔记本中，我们将要针对一则来自江西湖口的本地新闻进行如下的处理：\n",
    "\n",
    "1. 按照 `cut-scene` 来切割出若干镜头\n",
    "\n",
    "1. 对上一步切割出来的镜头进行分类，识别出:\n",
    "\n",
    "  - 演播室（没有字幕）\n",
    "  - 演播室（带有字幕）\n",
    "  - 其它\n",
    "\n",
    "1. 识别带有字幕的演播室镜头中的字幕文本\n",
    "\n",
    "1. 识别演播室镜头中，播音员播报的语音内容，将它转为文本"
   ]
  },
  {
   "cell_type": "markdown",
   "metadata": {},
   "source": [
    "## 环境准备"
   ]
  },
  {
   "cell_type": "markdown",
   "metadata": {},
   "source": [
    "我们已经准备好了一个 Conda 环境 `jxcn-newsvideo`，注意选择这个笔记本的 Kernel 为上诉环境！\n",
    "\n",
    "- 如果是第一次运行，执行下面的 cell ，保证依赖包被正确安装到该笔记本是使用 Kernel\n",
    "- 如果已经运行过一次，不必重复执行"
   ]
  },
  {
   "cell_type": "code",
   "execution_count": 3,
   "metadata": {},
   "outputs": [
    {
     "name": "stdout",
     "output_type": "stream",
     "text": [
      "Collecting package metadata (repodata.json): done\n",
      "Solving environment: / \n",
      "\n",
      "Updating matplotlib is constricted by \n",
      "\n",
      "holoviz -> requires matplotlib==3.0.3\n",
      "\n",
      "If you are sure you want an update of your package either try `conda update --all` or install a specific version of the package you want using `conda install <pkg>=<version>`\n",
      "\n",
      "\n",
      "\n",
      "Updating pandas is constricted by \n",
      "\n",
      "holoviz -> requires pandas[version='<=0.24.2']\n",
      "\n",
      "If you are sure you want an update of your package either try `conda update --all` or install a specific version of the package you want using `conda install <pkg>=<version>`\n",
      "\n",
      "done\n",
      "Preparing transaction: done\n",
      "Verifying transaction: done\n",
      "Executing transaction: done\n",
      "Ran pip subprocess with arguments:\n",
      "['/home/liuxy/miniconda3/envs/jxcn-newsvideo/bin/python', '-m', 'pip', 'install', '-U', '-r', '/home/liuxy/workspace/jxcn-newvideo-poc/condaenv.idqbzc04.requirements.txt']\n",
      "Pip subprocess output:\n",
      "Looking in indexes: https://mirrors.aliyun.com/pypi/simple\n",
      "Requirement already up-to-date: scenedetect>=0.5 in /home/liuxy/miniconda3/envs/jxcn-newsvideo/lib/python3.6/site-packages (from -r /home/liuxy/workspace/jxcn-newvideo-poc/condaenv.idqbzc04.requirements.txt (line 1)) (0.5.1)\n",
      "Requirement already satisfied, skipping upgrade: Click in /home/liuxy/miniconda3/envs/jxcn-newsvideo/lib/python3.6/site-packages (from scenedetect>=0.5->-r /home/liuxy/workspace/jxcn-newvideo-poc/condaenv.idqbzc04.requirements.txt (line 1)) (7.0)\n",
      "Requirement already satisfied, skipping upgrade: numpy in /home/liuxy/miniconda3/envs/jxcn-newsvideo/lib/python3.6/site-packages (from scenedetect>=0.5->-r /home/liuxy/workspace/jxcn-newvideo-poc/condaenv.idqbzc04.requirements.txt (line 1)) (1.16.4)\n",
      "Requirement already satisfied, skipping upgrade: opencv-python in /home/liuxy/miniconda3/envs/jxcn-newsvideo/lib/python3.6/site-packages (from scenedetect>=0.5->-r /home/liuxy/workspace/jxcn-newvideo-poc/condaenv.idqbzc04.requirements.txt (line 1)) (4.1.0.25)\n",
      "\n",
      "#\n",
      "# To activate this environment, use\n",
      "#\n",
      "#     $ conda activate jxcn-newsvideo\n",
      "#\n",
      "# To deactivate an active environment, use\n",
      "#\n",
      "#     $ conda deactivate\n",
      "\n",
      "\n",
      "Note: you may need to restart the kernel to use updated packages.\n"
     ]
    }
   ],
   "source": [
    "%conda env update --file ../environment.yml"
   ]
  },
  {
   "cell_type": "markdown",
   "metadata": {},
   "source": [
    "## 上传要处理的视频文件"
   ]
  },
  {
   "cell_type": "markdown",
   "metadata": {},
   "source": [
    "上传一个湖口的新闻视频，并指定其路径。\n",
    "\n",
    "在下面的步骤中，我们将针对这个视频文件进行处理。"
   ]
  },
  {
   "cell_type": "code",
   "execution_count": null,
   "metadata": {},
   "outputs": [],
   "source": []
  },
  {
   "cell_type": "markdown",
   "metadata": {},
   "source": [
    "## 场景切割"
   ]
  },
  {
   "cell_type": "code",
   "execution_count": null,
   "metadata": {},
   "outputs": [],
   "source": []
  },
  {
   "cell_type": "markdown",
   "metadata": {},
   "source": [
    "## 场景分类"
   ]
  },
  {
   "cell_type": "code",
   "execution_count": null,
   "metadata": {},
   "outputs": [],
   "source": []
  },
  {
   "cell_type": "markdown",
   "metadata": {},
   "source": [
    "## 字幕转文本"
   ]
  },
  {
   "cell_type": "code",
   "execution_count": null,
   "metadata": {},
   "outputs": [],
   "source": []
  },
  {
   "cell_type": "markdown",
   "metadata": {},
   "source": [
    "## 语音转本文"
   ]
  },
  {
   "cell_type": "code",
   "execution_count": null,
   "metadata": {},
   "outputs": [],
   "source": []
  }
 ],
 "metadata": {
  "kernelspec": {
   "display_name": "Python [conda env:jxcn-newsvideo]",
   "language": "python",
   "name": "conda-env-jxcn-newsvideo-py"
  },
  "language_info": {
   "codemirror_mode": {
    "name": "ipython",
    "version": 3
   },
   "file_extension": ".py",
   "mimetype": "text/x-python",
   "name": "python",
   "nbconvert_exporter": "python",
   "pygments_lexer": "ipython3",
   "version": "3.6.7"
  }
 },
 "nbformat": 4,
 "nbformat_minor": 4
}
